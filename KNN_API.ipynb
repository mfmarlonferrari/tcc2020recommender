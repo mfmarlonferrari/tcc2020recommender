{
  "nbformat": 4,
  "nbformat_minor": 0,
  "metadata": {
    "colab": {
      "name": "KNN_API.ipynb",
      "provenance": [],
      "authorship_tag": "ABX9TyN7yShTt+LAayK8PgHVaJBn",
      "include_colab_link": true
    },
    "kernelspec": {
      "name": "python3",
      "display_name": "Python 3"
    }
  },
  "cells": [
    {
      "cell_type": "markdown",
      "metadata": {
        "id": "view-in-github",
        "colab_type": "text"
      },
      "source": [
        "<a href=\"https://colab.research.google.com/github/mfmarlonferrari/tcc2020recommender/blob/main/KNN_API.ipynb\" target=\"_parent\"><img src=\"https://colab.research.google.com/assets/colab-badge.svg\" alt=\"Open In Colab\"/></a>"
      ]
    },
    {
      "cell_type": "code",
      "metadata": {
        "id": "qbcJXyUPsUpg",
        "outputId": "0c776a0e-e6e3-438e-8d4b-f4aafc17fc73",
        "colab": {
          "base_uri": "https://localhost:8080/",
          "height": 426
        }
      },
      "source": [
        "#https://pypi.org/project/mysql-connector/\n",
        "!pip install mysql-connector flask-ngrok"
      ],
      "execution_count": 1,
      "outputs": [
        {
          "output_type": "stream",
          "text": [
            "Collecting mysql-connector\n",
            "\u001b[?25l  Downloading https://files.pythonhosted.org/packages/28/04/e40098f3730e75bbe36a338926f566ea803550a34fb50535499f4fc4787a/mysql-connector-2.2.9.tar.gz (11.9MB)\n",
            "\u001b[K     |████████████████████████████████| 11.9MB 337kB/s \n",
            "\u001b[?25hCollecting flask-ngrok\n",
            "  Downloading https://files.pythonhosted.org/packages/af/6c/f54cb686ad1129e27d125d182f90f52b32f284e6c8df58c1bae54fa1adbc/flask_ngrok-0.0.25-py3-none-any.whl\n",
            "Requirement already satisfied: Flask>=0.8 in /usr/local/lib/python3.6/dist-packages (from flask-ngrok) (1.1.2)\n",
            "Requirement already satisfied: requests in /usr/local/lib/python3.6/dist-packages (from flask-ngrok) (2.23.0)\n",
            "Requirement already satisfied: Werkzeug>=0.15 in /usr/local/lib/python3.6/dist-packages (from Flask>=0.8->flask-ngrok) (1.0.1)\n",
            "Requirement already satisfied: click>=5.1 in /usr/local/lib/python3.6/dist-packages (from Flask>=0.8->flask-ngrok) (7.1.2)\n",
            "Requirement already satisfied: itsdangerous>=0.24 in /usr/local/lib/python3.6/dist-packages (from Flask>=0.8->flask-ngrok) (1.1.0)\n",
            "Requirement already satisfied: Jinja2>=2.10.1 in /usr/local/lib/python3.6/dist-packages (from Flask>=0.8->flask-ngrok) (2.11.2)\n",
            "Requirement already satisfied: urllib3!=1.25.0,!=1.25.1,<1.26,>=1.21.1 in /usr/local/lib/python3.6/dist-packages (from requests->flask-ngrok) (1.24.3)\n",
            "Requirement already satisfied: chardet<4,>=3.0.2 in /usr/local/lib/python3.6/dist-packages (from requests->flask-ngrok) (3.0.4)\n",
            "Requirement already satisfied: certifi>=2017.4.17 in /usr/local/lib/python3.6/dist-packages (from requests->flask-ngrok) (2020.6.20)\n",
            "Requirement already satisfied: idna<3,>=2.5 in /usr/local/lib/python3.6/dist-packages (from requests->flask-ngrok) (2.10)\n",
            "Requirement already satisfied: MarkupSafe>=0.23 in /usr/local/lib/python3.6/dist-packages (from Jinja2>=2.10.1->Flask>=0.8->flask-ngrok) (1.1.1)\n",
            "Building wheels for collected packages: mysql-connector\n",
            "  Building wheel for mysql-connector (setup.py) ... \u001b[?25l\u001b[?25hdone\n",
            "  Created wheel for mysql-connector: filename=mysql_connector-2.2.9-cp36-cp36m-linux_x86_64.whl size=247950 sha256=c5ca9aec2dcdeaacdd8512df4fb304f1f837e9044043ec7b344436b60bfc2644\n",
            "  Stored in directory: /root/.cache/pip/wheels/8c/83/a1/f8b6d4bb1bd6208bbde1608bbfa7557504bed9eaf2ecf8c175\n",
            "Successfully built mysql-connector\n",
            "Installing collected packages: mysql-connector, flask-ngrok\n",
            "Successfully installed flask-ngrok-0.0.25 mysql-connector-2.2.9\n"
          ],
          "name": "stdout"
        }
      ]
    },
    {
      "cell_type": "code",
      "metadata": {
        "id": "mH9TxP8qBcD5"
      },
      "source": [
        "import pandas as pd\n",
        "import mysql.connector\n",
        "from sklearn.neighbors import NearestNeighbors\n",
        "import json"
      ],
      "execution_count": 2,
      "outputs": []
    },
    {
      "cell_type": "markdown",
      "metadata": {
        "id": "TsVJNJkUtBzI"
      },
      "source": [
        "Conexão com a base de Dados transacional"
      ]
    },
    {
      "cell_type": "code",
      "metadata": {
        "id": "2LQcHNgUs40g"
      },
      "source": [
        "def recomendacao(id_usuario):\n",
        "  host=\"database-1.c6nlhkjxpqnn.sa-east-1.rds.amazonaws.com\"\n",
        "  port=3306\n",
        "  dbname=\"DB_TCC\"\n",
        "  user=\"admin\"\n",
        "  password=\"admin123\"\n",
        "\n",
        "  conn = mysql.connector.connect(user=user, password=password,\n",
        "                              host=host,\n",
        "                              database=dbname)\n",
        "\n",
        "  cur = conn.cursor()\n",
        "\n",
        "  cur.execute('select * from questions')\n",
        "  dados = cur.fetchall()\n",
        "  dataset = pd.DataFrame(dados, columns=['ID', 'USUARIO', 'LIVRO', 'TITULO', 'RATING','D1','D2'])[['USUARIO','LIVRO','TITULO','RATING']]\n",
        "\n",
        "  print(dataset.shape)\n",
        "\n",
        "  movies_features = dataset.pivot_table(index='USUARIO', columns='TITULO', values='RATING').fillna(0)\n",
        "\n",
        "  modelo = NearestNeighbors(metric='cosine', n_neighbors=3)\n",
        "  modelo.fit(movies_features)\n",
        "\n",
        "  distancia, indices_vizinhos = modelo.kneighbors(movies_features.loc[id_usuario].values.reshape(1,-1), n_neighbors=4)\n",
        "\n",
        "  parametros = {}\n",
        "\n",
        "  for i in range(0, len(distancia.flatten())):\n",
        "    if movies_features.index[indices_vizinhos.flatten()[i]] != id_usuario:\n",
        "      parametros[movies_features.index[indices_vizinhos.flatten()[i]]] = distancia.flatten()[i]\n",
        "\n",
        "  id_recomendado = movies_features.index[indices_vizinhos.flatten()][1]\n",
        "  base = movies_features.loc[id_usuario].to_frame()\n",
        "  recomendado = movies_features.loc[id_recomendado].to_frame()\n",
        "\n",
        "  novos_titulos = pd.merge(base,recomendado,on='TITULO',how='inner')\n",
        "  novos_titulos = novos_titulos[(novos_titulos[id_recomendado] > 0) & (novos_titulos[id_usuario] == 0)].reset_index()\n",
        "\n",
        "  livros = json.loads(novos_titulos.to_json(force_ascii=False))\n",
        "  parametros[\"livros\"] = livros\n",
        "\n",
        "  resultado_recomendacao = {\"parametros\":parametros}\n",
        "  return str(resultado_recomendacao)"
      ],
      "execution_count": 12,
      "outputs": []
    },
    {
      "cell_type": "code",
      "metadata": {
        "id": "M8nH3e6CSoxb",
        "outputId": "9d6a8071-30cb-4def-fa4e-f84670543a86",
        "colab": {
          "base_uri": "https://localhost:8080/",
          "height": 71
        }
      },
      "source": [
        "recomendacao(8)"
      ],
      "execution_count": 14,
      "outputs": [
        {
          "output_type": "stream",
          "text": [
            "(42, 4)\n"
          ],
          "name": "stdout"
        },
        {
          "output_type": "execute_result",
          "data": {
            "application/vnd.google.colaboratory.intrinsic+json": {
              "type": "string"
            },
            "text/plain": [
              "'{\\'parametros\\': {5: 1.0, 6: 1.0, 7: 1.0, \\'livros\\': {\\'TITULO\\': {\\'0\\': \"Harry Potter and the Sorcerer\\'s Stone (Harry Potter, #1)\", \\'1\\': \\'O Ladrão de Raios (Percy Jackson e os Olimpianos, #1)\\', \\'2\\': \\'O Menino Maluquinho\\'}, \\'8\\': {\\'0\\': 0.0, \\'1\\': 0.0, \\'2\\': 0.0}, \\'5\\': {\\'0\\': 5.0, \\'1\\': 3.0, \\'2\\': 4.0}}}}'"
            ]
          },
          "metadata": {
            "tags": []
          },
          "execution_count": 14
        }
      ]
    },
    {
      "cell_type": "code",
      "metadata": {
        "id": "MtQDBfL7rqKW",
        "outputId": "ea0f5fd9-7d73-4d94-b3f2-e348abd2e671",
        "colab": {
          "base_uri": "https://localhost:8080/",
          "height": 266
        }
      },
      "source": [
        "from flask_ngrok import run_with_ngrok\n",
        "from flask import Flask\n",
        "app = Flask(__name__)\n",
        "run_with_ngrok(app)   #starts ngrok when the app is run\n",
        "@app.route(\"/recomendar/<idUsuario>\")\n",
        "def recomendar(idUsuario):\n",
        "    idUsuario = int(idUsuario)\n",
        "    return recomendacao(idUsuario)\n",
        "  \n",
        "app.run()"
      ],
      "execution_count": 15,
      "outputs": [
        {
          "output_type": "stream",
          "text": [
            " * Serving Flask app \"__main__\" (lazy loading)\n",
            " * Environment: production\n",
            "\u001b[31m   WARNING: This is a development server. Do not use it in a production deployment.\u001b[0m\n",
            "\u001b[2m   Use a production WSGI server instead.\u001b[0m\n",
            " * Debug mode: off\n"
          ],
          "name": "stdout"
        },
        {
          "output_type": "stream",
          "text": [
            " * Running on http://127.0.0.1:5000/ (Press CTRL+C to quit)\n"
          ],
          "name": "stderr"
        },
        {
          "output_type": "stream",
          "text": [
            " * Running on http://23e693eec596.ngrok.io\n",
            " * Traffic stats available on http://127.0.0.1:4040\n"
          ],
          "name": "stdout"
        },
        {
          "output_type": "stream",
          "text": [
            "127.0.0.1 - - [25/Oct/2020 19:45:38] \"\u001b[33mGET / HTTP/1.1\u001b[0m\" 404 -\n",
            "127.0.0.1 - - [25/Oct/2020 19:45:39] \"\u001b[33mGET /favicon.ico HTTP/1.1\u001b[0m\" 404 -\n",
            "127.0.0.1 - - [25/Oct/2020 19:45:49] \"\u001b[37mGET /recomendar/8 HTTP/1.1\u001b[0m\" 200 -\n"
          ],
          "name": "stderr"
        },
        {
          "output_type": "stream",
          "text": [
            "(42, 4)\n"
          ],
          "name": "stdout"
        },
        {
          "output_type": "stream",
          "text": [
            "127.0.0.1 - - [25/Oct/2020 19:46:03] \"\u001b[37mGET /recomendar/8 HTTP/1.1\u001b[0m\" 200 -\n"
          ],
          "name": "stderr"
        },
        {
          "output_type": "stream",
          "text": [
            "(42, 4)\n"
          ],
          "name": "stdout"
        }
      ]
    },
    {
      "cell_type": "code",
      "metadata": {
        "id": "GIwsG6MnNxRK"
      },
      "source": [
        ""
      ],
      "execution_count": null,
      "outputs": []
    }
  ]
}