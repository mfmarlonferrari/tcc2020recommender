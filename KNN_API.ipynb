{
  "nbformat": 4,
  "nbformat_minor": 0,
  "metadata": {
    "colab": {
      "name": "KNN_API.ipynb",
      "provenance": [],
      "authorship_tag": "ABX9TyN8ipmN+YtQW+BecuEJxAW4",
      "include_colab_link": true
    },
    "kernelspec": {
      "name": "python3",
      "display_name": "Python 3"
    }
  },
  "cells": [
    {
      "cell_type": "markdown",
      "metadata": {
        "id": "view-in-github",
        "colab_type": "text"
      },
      "source": [
        "<a href=\"https://colab.research.google.com/github/mfmarlonferrari/tcc2020recommender/blob/main/KNN_API.ipynb\" target=\"_parent\"><img src=\"https://colab.research.google.com/assets/colab-badge.svg\" alt=\"Open In Colab\"/></a>"
      ]
    },
    {
      "cell_type": "code",
      "metadata": {
        "id": "qbcJXyUPsUpg",
        "outputId": "a9525007-1e47-49dc-e327-a0c9e73a6684",
        "colab": {
          "base_uri": "https://localhost:8080/",
          "height": 248
        }
      },
      "source": [
        "#https://pypi.org/project/mysql-connector/\n",
        "!pip install mysql-connector flask-ngrok"
      ],
      "execution_count": 6,
      "outputs": [
        {
          "output_type": "stream",
          "text": [
            "Requirement already satisfied: mysql-connector in /usr/local/lib/python3.6/dist-packages (2.2.9)\n",
            "Requirement already satisfied: flask-ngrok in /usr/local/lib/python3.6/dist-packages (0.0.25)\n",
            "Requirement already satisfied: requests in /usr/local/lib/python3.6/dist-packages (from flask-ngrok) (2.23.0)\n",
            "Requirement already satisfied: Flask>=0.8 in /usr/local/lib/python3.6/dist-packages (from flask-ngrok) (1.1.2)\n",
            "Requirement already satisfied: idna<3,>=2.5 in /usr/local/lib/python3.6/dist-packages (from requests->flask-ngrok) (2.10)\n",
            "Requirement already satisfied: chardet<4,>=3.0.2 in /usr/local/lib/python3.6/dist-packages (from requests->flask-ngrok) (3.0.4)\n",
            "Requirement already satisfied: certifi>=2017.4.17 in /usr/local/lib/python3.6/dist-packages (from requests->flask-ngrok) (2020.6.20)\n",
            "Requirement already satisfied: urllib3!=1.25.0,!=1.25.1,<1.26,>=1.21.1 in /usr/local/lib/python3.6/dist-packages (from requests->flask-ngrok) (1.24.3)\n",
            "Requirement already satisfied: Jinja2>=2.10.1 in /usr/local/lib/python3.6/dist-packages (from Flask>=0.8->flask-ngrok) (2.11.2)\n",
            "Requirement already satisfied: click>=5.1 in /usr/local/lib/python3.6/dist-packages (from Flask>=0.8->flask-ngrok) (7.1.2)\n",
            "Requirement already satisfied: Werkzeug>=0.15 in /usr/local/lib/python3.6/dist-packages (from Flask>=0.8->flask-ngrok) (1.0.1)\n",
            "Requirement already satisfied: itsdangerous>=0.24 in /usr/local/lib/python3.6/dist-packages (from Flask>=0.8->flask-ngrok) (1.1.0)\n",
            "Requirement already satisfied: MarkupSafe>=0.23 in /usr/local/lib/python3.6/dist-packages (from Jinja2>=2.10.1->Flask>=0.8->flask-ngrok) (1.1.1)\n"
          ],
          "name": "stdout"
        }
      ]
    },
    {
      "cell_type": "code",
      "metadata": {
        "id": "mH9TxP8qBcD5"
      },
      "source": [
        "import pandas as pd\n",
        "import mysql.connector\n",
        "from sklearn.neighbors import NearestNeighbors\n",
        "import json"
      ],
      "execution_count": 174,
      "outputs": []
    },
    {
      "cell_type": "markdown",
      "metadata": {
        "id": "TsVJNJkUtBzI"
      },
      "source": [
        "Conexão com a base de Dados transacional"
      ]
    },
    {
      "cell_type": "code",
      "metadata": {
        "id": "2LQcHNgUs40g"
      },
      "source": [
        "def recomendacao(idUsuario):\n",
        "  host=\"database-1.c6nlhkjxpqnn.sa-east-1.rds.amazonaws.com\"\n",
        "  port=3306\n",
        "  dbname=\"DB_TCC\"\n",
        "  user=\"admin\"\n",
        "  password=\"admin123\"\n",
        "\n",
        "  conn = mysql.connector.connect(user=user, password=password,\n",
        "                              host=host,\n",
        "                              database=dbname)\n",
        "\n",
        "  cur = conn.cursor()\n",
        "\n",
        "  cur.execute('select * from questions')\n",
        "  dados = cur.fetchall()\n",
        "  dataset = pd.DataFrame(dados, columns=['ID', 'USUARIO', 'LIVRO', 'TITULO', 'RATING','D1','D2'])[['USUARIO','LIVRO','TITULO','RATING']]\n",
        "\n",
        "  movies_features = dataset.pivot_table(index='USUARIO', columns='TITULO', values='RATING').fillna(0)\n",
        "\n",
        "  modelo = NearestNeighbors(metric='cosine', n_neighbors=3)\n",
        "  modelo.fit(movies_features)\n",
        "\n",
        "  distancia, indices_vizinhos = modelo.kneighbors(movies_features.loc[id_usuario].values.reshape(1,-1), n_neighbors=4)\n",
        "\n",
        "  parametros = {}\n",
        "\n",
        "  for i in range(0, len(distancia.flatten())):\n",
        "    if movies_features.index[indices_vizinhos.flatten()[i]] != id_usuario:\n",
        "      parametros[movies_features.index[indices_vizinhos.flatten()[i]]] = distancia.flatten()[i]\n",
        "\n",
        "  id_recomendado = movies_features.index[indices_vizinhos.flatten()][1]\n",
        "  base = movies_features.loc[id_usuario].to_frame()\n",
        "  recomendado = movies_features.loc[id_recomendado].to_frame()\n",
        "\n",
        "  novos_titulos = pd.merge(base,recomendado,on='TITULO',how='inner')\n",
        "  novos_titulos = novos_titulos[(novos_titulos[id_recomendado] > 0) & (novos_titulos[id_usuario] == 0)].reset_index()\n",
        "\n",
        "  livros = json.loads(novos_titulos.to_json(force_ascii=False))\n",
        "  parametros[\"livros\"] = livros\n",
        "\n",
        "  resultado_recomendacao = {\"parametros\":parametros}\n",
        "  return str(resultado_recomendacao)"
      ],
      "execution_count": 205,
      "outputs": []
    },
    {
      "cell_type": "code",
      "metadata": {
        "id": "MtQDBfL7rqKW",
        "outputId": "1085e1bc-aa78-49f8-e051-314e505b37d2",
        "colab": {
          "base_uri": "https://localhost:8080/",
          "height": 230
        }
      },
      "source": [
        "from flask_ngrok import run_with_ngrok\n",
        "from flask import Flask\n",
        "app = Flask(__name__)\n",
        "run_with_ngrok(app)   #starts ngrok when the app is run\n",
        "@app.route(\"/recomendar/<idUsuario>\")\n",
        "def recomendar(idUsuario):\n",
        "    return recomendacao(idUsuario)\n",
        "  \n",
        "app.run()"
      ],
      "execution_count": 206,
      "outputs": [
        {
          "output_type": "stream",
          "text": [
            " * Serving Flask app \"__main__\" (lazy loading)\n",
            " * Environment: production\n",
            "\u001b[31m   WARNING: This is a development server. Do not use it in a production deployment.\u001b[0m\n",
            "\u001b[2m   Use a production WSGI server instead.\u001b[0m\n",
            " * Debug mode: off\n"
          ],
          "name": "stdout"
        },
        {
          "output_type": "stream",
          "text": [
            " * Running on http://127.0.0.1:5000/ (Press CTRL+C to quit)\n"
          ],
          "name": "stderr"
        },
        {
          "output_type": "stream",
          "text": [
            " * Running on http://0850ce90210a.ngrok.io\n",
            " * Traffic stats available on http://127.0.0.1:4040\n"
          ],
          "name": "stdout"
        },
        {
          "output_type": "stream",
          "text": [
            "127.0.0.1 - - [25/Oct/2020 19:26:58] \"\u001b[33mGET / HTTP/1.1\u001b[0m\" 404 -\n",
            "127.0.0.1 - - [25/Oct/2020 19:26:59] \"\u001b[33mGET /favicon.ico HTTP/1.1\u001b[0m\" 404 -\n",
            "127.0.0.1 - - [25/Oct/2020 19:27:07] \"\u001b[37mGET /recomendar/4 HTTP/1.1\u001b[0m\" 200 -\n",
            "127.0.0.1 - - [25/Oct/2020 19:28:53] \"\u001b[37mGET /recomendar/4 HTTP/1.1\u001b[0m\" 200 -\n"
          ],
          "name": "stderr"
        }
      ]
    },
    {
      "cell_type": "code",
      "metadata": {
        "id": "GIwsG6MnNxRK"
      },
      "source": [
        ""
      ],
      "execution_count": null,
      "outputs": []
    }
  ]
}